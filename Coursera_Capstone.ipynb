{
  "nbformat": 4,
  "nbformat_minor": 0,
  "metadata": {
    "colab": {
      "name": "Coursera Capstone",
      "provenance": [],
      "authorship_tag": "ABX9TyMBcmbwTKUoSUaPWbke3b51",
      "include_colab_link": true
    },
    "kernelspec": {
      "name": "python3",
      "display_name": "Python 3"
    }
  },
  "cells": [
    {
      "cell_type": "markdown",
      "metadata": {
        "id": "view-in-github",
        "colab_type": "text"
      },
      "source": [
        "<a href=\"https://colab.research.google.com/github/Benider/Coursera_Capstone/blob/master/Coursera_Capstone.ipynb\" target=\"_parent\"><img src=\"https://colab.research.google.com/assets/colab-badge.svg\" alt=\"Open In Colab\"/></a>"
      ]
    },
    {
      "cell_type": "markdown",
      "metadata": {
        "id": "bCh7COb0TOao"
      },
      "source": [
        "# Introduction/Business Problem"
      ]
    },
    {
      "cell_type": "markdown",
      "metadata": {
        "id": "sHZ3dGGWTW17"
      },
      "source": [
        "To help reduce deaths caused by car accidents, governements must think of innovative ways to prevent such problems. Luckily, we live in an era where computers have the power not only to do high computations, bt also help predict the likelyhood of certain outcomes with the help of Machine Learning.\n",
        "\n",
        "This project will be a response to the car accidents problem and, hopefully, a first step to reduce road death with the help of machines given the current weather, road and visibility conditions."
      ]
    },
    {
      "cell_type": "markdown",
      "metadata": {
        "id": "K2GrBdmtUkd6"
      },
      "source": [
        "# Exploring the Data"
      ]
    },
    {
      "cell_type": "markdown",
      "metadata": {
        "id": "al5EIUcnbSav"
      },
      "source": [
        "### Getting to know the Data"
      ]
    },
    {
      "cell_type": "markdown",
      "metadata": {
        "id": "BOmN58oUU27J"
      },
      "source": [
        "Let us first import the dataset from the given url"
      ]
    },
    {
      "cell_type": "code",
      "metadata": {
        "id": "IBUWU4pqUZSC"
      },
      "source": [
        "import pandas as pd"
      ],
      "execution_count": 14,
      "outputs": []
    },
    {
      "cell_type": "code",
      "metadata": {
        "id": "K36BAt1FUwtE",
        "outputId": "1645417b-37ba-4fd4-e38f-5b64a06ed44c",
        "colab": {
          "base_uri": "https://localhost:8080/",
          "height": 71
        }
      },
      "source": [
        "df = pd.read_csv('https://s3.us.cloud-object-storage.appdomain.cloud/cf-courses-data/CognitiveClass/DP0701EN/version-2/Data-Collisions.csv')"
      ],
      "execution_count": 15,
      "outputs": [
        {
          "output_type": "stream",
          "text": [
            "/usr/local/lib/python3.6/dist-packages/IPython/core/interactiveshell.py:2718: DtypeWarning: Columns (33) have mixed types.Specify dtype option on import or set low_memory=False.\n",
            "  interactivity=interactivity, compiler=compiler, result=result)\n"
          ],
          "name": "stderr"
        }
      ]
    },
    {
      "cell_type": "markdown",
      "metadata": {
        "id": "P9jN0jIbWsOY"
      },
      "source": [
        "Let's explore our target value!"
      ]
    },
    {
      "cell_type": "code",
      "metadata": {
        "id": "TwEh_mrPUxaj",
        "outputId": "652bbf46-6467-446f-dcbc-86d5ebf8b825",
        "colab": {
          "base_uri": "https://localhost:8080/",
          "height": 111
        }
      },
      "source": [
        "df.SEVERITYCODE.value_counts().to_frame()"
      ],
      "execution_count": 25,
      "outputs": [
        {
          "output_type": "execute_result",
          "data": {
            "text/html": [
              "<div>\n",
              "<style scoped>\n",
              "    .dataframe tbody tr th:only-of-type {\n",
              "        vertical-align: middle;\n",
              "    }\n",
              "\n",
              "    .dataframe tbody tr th {\n",
              "        vertical-align: top;\n",
              "    }\n",
              "\n",
              "    .dataframe thead th {\n",
              "        text-align: right;\n",
              "    }\n",
              "</style>\n",
              "<table border=\"1\" class=\"dataframe\">\n",
              "  <thead>\n",
              "    <tr style=\"text-align: right;\">\n",
              "      <th></th>\n",
              "      <th>SEVERITYCODE</th>\n",
              "    </tr>\n",
              "  </thead>\n",
              "  <tbody>\n",
              "    <tr>\n",
              "      <th>1</th>\n",
              "      <td>136485</td>\n",
              "    </tr>\n",
              "    <tr>\n",
              "      <th>2</th>\n",
              "      <td>58188</td>\n",
              "    </tr>\n",
              "  </tbody>\n",
              "</table>\n",
              "</div>"
            ],
            "text/plain": [
              "   SEVERITYCODE\n",
              "1        136485\n",
              "2         58188"
            ]
          },
          "metadata": {
            "tags": []
          },
          "execution_count": 25
        }
      ]
    },
    {
      "cell_type": "markdown",
      "metadata": {
        "id": "1VqXUgKAWqYr"
      },
      "source": [
        "In this data set, we see that the SEVERITYCODE ranges between 1 and 2. Wich means given the meta data : \n",
        "\n",
        "\n",
        "1.   prop damage\n",
        "2.   injury\n"
      ]
    },
    {
      "cell_type": "code",
      "metadata": {
        "id": "o67j544WU8Kd",
        "outputId": "920b6062-0388-46d8-935d-6c37d478e476",
        "colab": {
          "base_uri": "https://localhost:8080/",
          "height": 111
        }
      },
      "source": [
        "df.SEVERITYDESC.value_counts().to_frame()"
      ],
      "execution_count": 27,
      "outputs": [
        {
          "output_type": "execute_result",
          "data": {
            "text/html": [
              "<div>\n",
              "<style scoped>\n",
              "    .dataframe tbody tr th:only-of-type {\n",
              "        vertical-align: middle;\n",
              "    }\n",
              "\n",
              "    .dataframe tbody tr th {\n",
              "        vertical-align: top;\n",
              "    }\n",
              "\n",
              "    .dataframe thead th {\n",
              "        text-align: right;\n",
              "    }\n",
              "</style>\n",
              "<table border=\"1\" class=\"dataframe\">\n",
              "  <thead>\n",
              "    <tr style=\"text-align: right;\">\n",
              "      <th></th>\n",
              "      <th>SEVERITYDESC</th>\n",
              "    </tr>\n",
              "  </thead>\n",
              "  <tbody>\n",
              "    <tr>\n",
              "      <th>Property Damage Only Collision</th>\n",
              "      <td>136485</td>\n",
              "    </tr>\n",
              "    <tr>\n",
              "      <th>Injury Collision</th>\n",
              "      <td>58188</td>\n",
              "    </tr>\n",
              "  </tbody>\n",
              "</table>\n",
              "</div>"
            ],
            "text/plain": [
              "                                SEVERITYDESC\n",
              "Property Damage Only Collision        136485\n",
              "Injury Collision                       58188"
            ]
          },
          "metadata": {
            "tags": []
          },
          "execution_count": 27
        }
      ]
    },
    {
      "cell_type": "markdown",
      "metadata": {
        "id": "vWKzDFDpbbPf"
      },
      "source": [
        "### Feature selection"
      ]
    },
    {
      "cell_type": "markdown",
      "metadata": {
        "id": "-Xa_MFBKW9TO"
      },
      "source": [
        "Now, lets check the columns in the dataset to choose our features for the modeling section."
      ]
    },
    {
      "cell_type": "code",
      "metadata": {
        "id": "0OwRChUtV97K",
        "outputId": "f0048f01-e559-43e3-c8d4-a6468b2921b1",
        "colab": {
          "base_uri": "https://localhost:8080/",
          "height": 170
        }
      },
      "source": [
        "df.columns"
      ],
      "execution_count": 28,
      "outputs": [
        {
          "output_type": "execute_result",
          "data": {
            "text/plain": [
              "Index(['SEVERITYCODE', 'X', 'Y', 'OBJECTID', 'INCKEY', 'COLDETKEY', 'REPORTNO',\n",
              "       'STATUS', 'ADDRTYPE', 'INTKEY', 'LOCATION', 'EXCEPTRSNCODE',\n",
              "       'EXCEPTRSNDESC', 'SEVERITYCODE.1', 'SEVERITYDESC', 'COLLISIONTYPE',\n",
              "       'PERSONCOUNT', 'PEDCOUNT', 'PEDCYLCOUNT', 'VEHCOUNT', 'INCDATE',\n",
              "       'INCDTTM', 'JUNCTIONTYPE', 'SDOT_COLCODE', 'SDOT_COLDESC',\n",
              "       'INATTENTIONIND', 'UNDERINFL', 'WEATHER', 'ROADCOND', 'LIGHTCOND',\n",
              "       'PEDROWNOTGRNT', 'SDOTCOLNUM', 'SPEEDING', 'ST_COLCODE', 'ST_COLDESC',\n",
              "       'SEGLANEKEY', 'CROSSWALKKEY', 'HITPARKEDCAR'],\n",
              "      dtype='object')"
            ]
          },
          "metadata": {
            "tags": []
          },
          "execution_count": 28
        }
      ]
    },
    {
      "cell_type": "markdown",
      "metadata": {
        "id": "PuCQJkRuYK7a"
      },
      "source": [
        "From this list, the attributes that I'll use are : \n",
        "\n",
        "*   **SPEEDING** : Whether or not speeding was a factor in the collision\n",
        "*   **WEATHER** : weather at the time of crash\n",
        "*   **ROADCOND** : road condition at the time of crash\n",
        "*   **LIGHTCOND** : light conditions at the time of crash\n",
        "*   **INATTENTIONIND** : whether the driver was distracted\n",
        "*   **UNDERINFL** : whether the driver was under the influence of drugs or alcohol\n",
        "\n",
        "And of course, the target values is :\n",
        "*   **SEVERITYCODE** : corresponds to the severity of the collision\n",
        "\n"
      ]
    },
    {
      "cell_type": "code",
      "metadata": {
        "id": "-D1UuvOgXGYc"
      },
      "source": [
        "list_of_features = ['SEVERITYCODE', 'SPEEDING', 'WEATHER', 'ROADCOND', 'LIGHTCOND', 'INATTENTIONIND', 'UNDERINFL']"
      ],
      "execution_count": 30,
      "outputs": []
    },
    {
      "cell_type": "code",
      "metadata": {
        "id": "he0smCX4XaJD",
        "outputId": "d227236e-d5cc-4b2f-a325-75fb08804c16",
        "colab": {
          "base_uri": "https://localhost:8080/",
          "height": 204
        }
      },
      "source": [
        "data = df[list_of_features]\n",
        "data.head()"
      ],
      "execution_count": 52,
      "outputs": [
        {
          "output_type": "execute_result",
          "data": {
            "text/html": [
              "<div>\n",
              "<style scoped>\n",
              "    .dataframe tbody tr th:only-of-type {\n",
              "        vertical-align: middle;\n",
              "    }\n",
              "\n",
              "    .dataframe tbody tr th {\n",
              "        vertical-align: top;\n",
              "    }\n",
              "\n",
              "    .dataframe thead th {\n",
              "        text-align: right;\n",
              "    }\n",
              "</style>\n",
              "<table border=\"1\" class=\"dataframe\">\n",
              "  <thead>\n",
              "    <tr style=\"text-align: right;\">\n",
              "      <th></th>\n",
              "      <th>SEVERITYCODE</th>\n",
              "      <th>SPEEDING</th>\n",
              "      <th>WEATHER</th>\n",
              "      <th>ROADCOND</th>\n",
              "      <th>LIGHTCOND</th>\n",
              "      <th>INATTENTIONIND</th>\n",
              "      <th>UNDERINFL</th>\n",
              "    </tr>\n",
              "  </thead>\n",
              "  <tbody>\n",
              "    <tr>\n",
              "      <th>0</th>\n",
              "      <td>2</td>\n",
              "      <td>NaN</td>\n",
              "      <td>Overcast</td>\n",
              "      <td>Wet</td>\n",
              "      <td>Daylight</td>\n",
              "      <td>NaN</td>\n",
              "      <td>N</td>\n",
              "    </tr>\n",
              "    <tr>\n",
              "      <th>1</th>\n",
              "      <td>1</td>\n",
              "      <td>NaN</td>\n",
              "      <td>Raining</td>\n",
              "      <td>Wet</td>\n",
              "      <td>Dark - Street Lights On</td>\n",
              "      <td>NaN</td>\n",
              "      <td>0</td>\n",
              "    </tr>\n",
              "    <tr>\n",
              "      <th>2</th>\n",
              "      <td>1</td>\n",
              "      <td>NaN</td>\n",
              "      <td>Overcast</td>\n",
              "      <td>Dry</td>\n",
              "      <td>Daylight</td>\n",
              "      <td>NaN</td>\n",
              "      <td>0</td>\n",
              "    </tr>\n",
              "    <tr>\n",
              "      <th>3</th>\n",
              "      <td>1</td>\n",
              "      <td>NaN</td>\n",
              "      <td>Clear</td>\n",
              "      <td>Dry</td>\n",
              "      <td>Daylight</td>\n",
              "      <td>NaN</td>\n",
              "      <td>N</td>\n",
              "    </tr>\n",
              "    <tr>\n",
              "      <th>4</th>\n",
              "      <td>2</td>\n",
              "      <td>NaN</td>\n",
              "      <td>Raining</td>\n",
              "      <td>Wet</td>\n",
              "      <td>Daylight</td>\n",
              "      <td>NaN</td>\n",
              "      <td>0</td>\n",
              "    </tr>\n",
              "  </tbody>\n",
              "</table>\n",
              "</div>"
            ],
            "text/plain": [
              "   SEVERITYCODE SPEEDING  ... INATTENTIONIND UNDERINFL\n",
              "0             2      NaN  ...            NaN         N\n",
              "1             1      NaN  ...            NaN         0\n",
              "2             1      NaN  ...            NaN         0\n",
              "3             1      NaN  ...            NaN         N\n",
              "4             2      NaN  ...            NaN         0\n",
              "\n",
              "[5 rows x 7 columns]"
            ]
          },
          "metadata": {
            "tags": []
          },
          "execution_count": 52
        }
      ]
    },
    {
      "cell_type": "markdown",
      "metadata": {
        "id": "EG433214bhG7"
      },
      "source": [
        "### Handling mising values"
      ]
    },
    {
      "cell_type": "markdown",
      "metadata": {
        "id": "ec_vqslabK-N"
      },
      "source": [
        "let's explore missing values"
      ]
    },
    {
      "cell_type": "code",
      "metadata": {
        "id": "u8zCYyjEayKU",
        "outputId": "8a49b7e1-31cd-4196-fff1-8d43963bd4b7",
        "colab": {
          "base_uri": "https://localhost:8080/",
          "height": 153
        }
      },
      "source": [
        "data.isna().any()"
      ],
      "execution_count": 35,
      "outputs": [
        {
          "output_type": "execute_result",
          "data": {
            "text/plain": [
              "SEVERITYCODE      False\n",
              "SPEEDING           True\n",
              "WEATHER            True\n",
              "ROADCOND           True\n",
              "LIGHTCOND          True\n",
              "INATTENTIONIND     True\n",
              "UNDERINFL          True\n",
              "dtype: bool"
            ]
          },
          "metadata": {
            "tags": []
          },
          "execution_count": 35
        }
      ]
    },
    {
      "cell_type": "markdown",
      "metadata": {
        "id": "JcZp41txboqp"
      },
      "source": [
        "All the features have missing values!\n",
        "\n",
        "Let's us explore more."
      ]
    },
    {
      "cell_type": "code",
      "metadata": {
        "id": "idE69L-Rbl6T",
        "outputId": "0e655e2c-bcfd-4989-d11f-444d35148f1c",
        "colab": {
          "base_uri": "https://localhost:8080/",
          "height": 153
        }
      },
      "source": [
        "data.isna().sum()"
      ],
      "execution_count": 36,
      "outputs": [
        {
          "output_type": "execute_result",
          "data": {
            "text/plain": [
              "SEVERITYCODE           0\n",
              "SPEEDING          185340\n",
              "WEATHER             5081\n",
              "ROADCOND            5012\n",
              "LIGHTCOND           5170\n",
              "INATTENTIONIND    164868\n",
              "UNDERINFL           4884\n",
              "dtype: int64"
            ]
          },
          "metadata": {
            "tags": []
          },
          "execution_count": 36
        }
      ]
    },
    {
      "cell_type": "code",
      "metadata": {
        "id": "FP2uGJ2dcYQD",
        "outputId": "c94044b0-59c6-4052-a44b-e93216b75e11",
        "colab": {
          "base_uri": "https://localhost:8080/",
          "height": 255
        }
      },
      "source": [
        "data.info()"
      ],
      "execution_count": 38,
      "outputs": [
        {
          "output_type": "stream",
          "text": [
            "<class 'pandas.core.frame.DataFrame'>\n",
            "RangeIndex: 194673 entries, 0 to 194672\n",
            "Data columns (total 7 columns):\n",
            " #   Column          Non-Null Count   Dtype \n",
            "---  ------          --------------   ----- \n",
            " 0   SEVERITYCODE    194673 non-null  int64 \n",
            " 1   SPEEDING        9333 non-null    object\n",
            " 2   WEATHER         189592 non-null  object\n",
            " 3   ROADCOND        189661 non-null  object\n",
            " 4   LIGHTCOND       189503 non-null  object\n",
            " 5   INATTENTIONIND  29805 non-null   object\n",
            " 6   UNDERINFL       189789 non-null  object\n",
            "dtypes: int64(1), object(6)\n",
            "memory usage: 10.4+ MB\n"
          ],
          "name": "stdout"
        }
      ]
    },
    {
      "cell_type": "markdown",
      "metadata": {
        "id": "dvjJOdVVel3I"
      },
      "source": [
        "Since speeding has many missing values, let's drop it"
      ]
    },
    {
      "cell_type": "code",
      "metadata": {
        "id": "goqGpadVey3u",
        "outputId": "b5cc1fc7-49d1-433b-aebb-ba552647efc4",
        "colab": {
          "base_uri": "https://localhost:8080/",
          "height": 309
        }
      },
      "source": [
        "data.drop('SPEEDING', axis=1, inplace=True)\n",
        "data.head()"
      ],
      "execution_count": 53,
      "outputs": [
        {
          "output_type": "stream",
          "text": [
            "/usr/local/lib/python3.6/dist-packages/pandas/core/frame.py:3997: SettingWithCopyWarning: \n",
            "A value is trying to be set on a copy of a slice from a DataFrame\n",
            "\n",
            "See the caveats in the documentation: https://pandas.pydata.org/pandas-docs/stable/user_guide/indexing.html#returning-a-view-versus-a-copy\n",
            "  errors=errors,\n"
          ],
          "name": "stderr"
        },
        {
          "output_type": "execute_result",
          "data": {
            "text/html": [
              "<div>\n",
              "<style scoped>\n",
              "    .dataframe tbody tr th:only-of-type {\n",
              "        vertical-align: middle;\n",
              "    }\n",
              "\n",
              "    .dataframe tbody tr th {\n",
              "        vertical-align: top;\n",
              "    }\n",
              "\n",
              "    .dataframe thead th {\n",
              "        text-align: right;\n",
              "    }\n",
              "</style>\n",
              "<table border=\"1\" class=\"dataframe\">\n",
              "  <thead>\n",
              "    <tr style=\"text-align: right;\">\n",
              "      <th></th>\n",
              "      <th>SEVERITYCODE</th>\n",
              "      <th>WEATHER</th>\n",
              "      <th>ROADCOND</th>\n",
              "      <th>LIGHTCOND</th>\n",
              "      <th>INATTENTIONIND</th>\n",
              "      <th>UNDERINFL</th>\n",
              "    </tr>\n",
              "  </thead>\n",
              "  <tbody>\n",
              "    <tr>\n",
              "      <th>0</th>\n",
              "      <td>2</td>\n",
              "      <td>Overcast</td>\n",
              "      <td>Wet</td>\n",
              "      <td>Daylight</td>\n",
              "      <td>NaN</td>\n",
              "      <td>N</td>\n",
              "    </tr>\n",
              "    <tr>\n",
              "      <th>1</th>\n",
              "      <td>1</td>\n",
              "      <td>Raining</td>\n",
              "      <td>Wet</td>\n",
              "      <td>Dark - Street Lights On</td>\n",
              "      <td>NaN</td>\n",
              "      <td>0</td>\n",
              "    </tr>\n",
              "    <tr>\n",
              "      <th>2</th>\n",
              "      <td>1</td>\n",
              "      <td>Overcast</td>\n",
              "      <td>Dry</td>\n",
              "      <td>Daylight</td>\n",
              "      <td>NaN</td>\n",
              "      <td>0</td>\n",
              "    </tr>\n",
              "    <tr>\n",
              "      <th>3</th>\n",
              "      <td>1</td>\n",
              "      <td>Clear</td>\n",
              "      <td>Dry</td>\n",
              "      <td>Daylight</td>\n",
              "      <td>NaN</td>\n",
              "      <td>N</td>\n",
              "    </tr>\n",
              "    <tr>\n",
              "      <th>4</th>\n",
              "      <td>2</td>\n",
              "      <td>Raining</td>\n",
              "      <td>Wet</td>\n",
              "      <td>Daylight</td>\n",
              "      <td>NaN</td>\n",
              "      <td>0</td>\n",
              "    </tr>\n",
              "  </tbody>\n",
              "</table>\n",
              "</div>"
            ],
            "text/plain": [
              "   SEVERITYCODE   WEATHER  ... INATTENTIONIND UNDERINFL\n",
              "0             2  Overcast  ...            NaN         N\n",
              "1             1   Raining  ...            NaN         0\n",
              "2             1  Overcast  ...            NaN         0\n",
              "3             1     Clear  ...            NaN         N\n",
              "4             2   Raining  ...            NaN         0\n",
              "\n",
              "[5 rows x 6 columns]"
            ]
          },
          "metadata": {
            "tags": []
          },
          "execution_count": 53
        }
      ]
    },
    {
      "cell_type": "markdown",
      "metadata": {
        "id": "Ki2VTJWEe54T"
      },
      "source": [
        "Now, lets fill missing values with most frequent values!"
      ]
    },
    {
      "cell_type": "code",
      "metadata": {
        "id": "5YsiFfkxcacs",
        "outputId": "038d9115-3541-441f-b85d-950d93e3684e",
        "colab": {
          "base_uri": "https://localhost:8080/",
          "height": 241
        }
      },
      "source": [
        "for i in ['WEATHER', 'ROADCOND', 'LIGHTCOND', 'INATTENTIONIND', 'UNDERINFL']:\n",
        "  data[i].fillna(data[i].value_counts().index[0], inplace=True)\n",
        "\n",
        "data.isna().any()"
      ],
      "execution_count": 54,
      "outputs": [
        {
          "output_type": "stream",
          "text": [
            "/usr/local/lib/python3.6/dist-packages/pandas/core/generic.py:6245: SettingWithCopyWarning: \n",
            "A value is trying to be set on a copy of a slice from a DataFrame\n",
            "\n",
            "See the caveats in the documentation: https://pandas.pydata.org/pandas-docs/stable/user_guide/indexing.html#returning-a-view-versus-a-copy\n",
            "  self._update_inplace(new_data)\n"
          ],
          "name": "stderr"
        },
        {
          "output_type": "execute_result",
          "data": {
            "text/plain": [
              "SEVERITYCODE      False\n",
              "WEATHER           False\n",
              "ROADCOND          False\n",
              "LIGHTCOND         False\n",
              "INATTENTIONIND    False\n",
              "UNDERINFL         False\n",
              "dtype: bool"
            ]
          },
          "metadata": {
            "tags": []
          },
          "execution_count": 54
        }
      ]
    },
    {
      "cell_type": "markdown",
      "metadata": {
        "id": "euoT22lbf0Kl"
      },
      "source": [
        "### Data visualisation"
      ]
    },
    {
      "cell_type": "code",
      "metadata": {
        "id": "ktLkdAp7f2kj",
        "outputId": "80ba021a-88a0-46a1-9363-febefc252415",
        "colab": {
          "base_uri": "https://localhost:8080/",
          "height": 71
        }
      },
      "source": [
        "import matplotlib.pyplot as plt\n",
        "import seaborn as sns\n",
        "% matplotlib inline"
      ],
      "execution_count": 64,
      "outputs": [
        {
          "output_type": "stream",
          "text": [
            "/usr/local/lib/python3.6/dist-packages/statsmodels/tools/_testing.py:19: FutureWarning: pandas.util.testing is deprecated. Use the functions in the public API at pandas.testing instead.\n",
            "  import pandas.util.testing as tm\n"
          ],
          "name": "stderr"
        }
      ]
    },
    {
      "cell_type": "code",
      "metadata": {
        "id": "GVvGLMELhCLu"
      },
      "source": [
        "sns.set(font_scale=1.4)"
      ],
      "execution_count": 67,
      "outputs": []
    },
    {
      "cell_type": "code",
      "metadata": {
        "id": "DXj0pR1Of-fq",
        "outputId": "d8d34288-1cc1-4713-f8be-f77bca898723",
        "colab": {
          "base_uri": "https://localhost:8080/",
          "height": 324
        }
      },
      "source": [
        "df.SEVERITYCODE.value_counts().plot(kind='bar')\n",
        "plt.xlabel(\"Code\", labelpad=14)\n",
        "plt.ylabel(\"Count of accidents\", labelpad=14)\n",
        "plt.title(\"Count of Accidents by severity\", y=1.02);"
      ],
      "execution_count": 69,
      "outputs": [
        {
          "output_type": "display_data",
          "data": {
            "image/png": "[encoded data removed]",
            "text/plain": [
              "<Figure size 432x288 with 1 Axes>"
            ]
          },
          "metadata": {
            "tags": []
          }
        }
      ]
    },
    {
      "cell_type": "code",
      "metadata": {
        "id": "Vn2QIwgJhTz-",
        "outputId": "20b24d80-dff5-447e-e229-aa6c58aef55a",
        "colab": {
          "base_uri": "https://localhost:8080/",
          "height": 433
        }
      },
      "source": [
        "df.ROADCOND.value_counts().plot(kind='bar')\n",
        "plt.xlabel(\"Condition\", labelpad=14)\n",
        "plt.title(\"Count of Accidents by road condition\", y=1.02);"
      ],
      "execution_count": 70,
      "outputs": [
        {
          "output_type": "display_data",
          "data": {
            "image/png": "[encoded data removed]",
            "text/plain": [
              "<Figure size 432x288 with 1 Axes>"
            ]
          },
          "metadata": {
            "tags": []
          }
        }
      ]
    },
    {
      "cell_type": "markdown",
      "metadata": {
        "id": "IrSoo2PrfY6M"
      },
      "source": [
        "### Formating the Data\n",
        "\n",
        "Great, Now lets Get de Data to the correct format to do machine learning"
      ]
    },
    {
      "cell_type": "code",
      "metadata": {
        "id": "u4pIycK5dT5d"
      },
      "source": [
        "data = pd.get_dummies(data=data)"
      ],
      "execution_count": 71,
      "outputs": []
    },
    {
      "cell_type": "markdown",
      "metadata": {
        "id": "JnI2smXpfnar"
      },
      "source": [
        "Now we can move on to modeling!"
      ]
    }
  ]
}